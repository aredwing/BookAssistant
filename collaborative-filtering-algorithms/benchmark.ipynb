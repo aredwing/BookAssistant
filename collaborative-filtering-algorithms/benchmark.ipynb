{
  "nbformat": 4,
  "nbformat_minor": 0,
  "metadata": {
    "colab": {
      "name": "benchmark.ipynb",
      "provenance": [],
      "collapsed_sections": [],
      "toc_visible": true,
      "machine_shape": "hm"
    },
    "kernelspec": {
      "name": "python3",
      "display_name": "Python 3"
    }
  },
  "cells": [
    {
      "cell_type": "markdown",
      "metadata": {
        "id": "ibATQZhB1K1S",
        "colab_type": "text"
      },
      "source": [
        "# **The comparison of the algorithms used for implementing Collaborative Filtering with Surprise**"
      ]
    },
    {
      "cell_type": "markdown",
      "metadata": {
        "id": "KfLFqFav1dNG",
        "colab_type": "text"
      },
      "source": [
        "## **Installing Surprise**"
      ]
    },
    {
      "cell_type": "code",
      "metadata": {
        "id": "Uk6NBCYU1hdi",
        "colab_type": "code",
        "outputId": "d6e9af9c-397e-4711-9f82-f03686e4f941",
        "colab": {
          "base_uri": "https://localhost:8080/",
          "height": 100
        }
      },
      "source": [
        "!pip install scikit-surprise"
      ],
      "execution_count": 2,
      "outputs": [
        {
          "output_type": "stream",
          "text": [
            "Requirement already satisfied: scikit-surprise in /usr/local/lib/python3.6/dist-packages (1.1.0)\n",
            "Requirement already satisfied: joblib>=0.11 in /usr/local/lib/python3.6/dist-packages (from scikit-surprise) (0.14.1)\n",
            "Requirement already satisfied: six>=1.10.0 in /usr/local/lib/python3.6/dist-packages (from scikit-surprise) (1.12.0)\n",
            "Requirement already satisfied: numpy>=1.11.2 in /usr/local/lib/python3.6/dist-packages (from scikit-surprise) (1.18.4)\n",
            "Requirement already satisfied: scipy>=1.0.0 in /usr/local/lib/python3.6/dist-packages (from scikit-surprise) (1.4.1)\n"
          ],
          "name": "stdout"
        }
      ]
    },
    {
      "cell_type": "markdown",
      "metadata": {
        "id": "lJXh8xr91j1_",
        "colab_type": "text"
      },
      "source": [
        "## **Importing necessary libraries**"
      ]
    },
    {
      "cell_type": "code",
      "metadata": {
        "id": "3DA0RyeI1rX2",
        "colab_type": "code",
        "colab": {}
      },
      "source": [
        "import pandas as pd\n",
        "from surprise import Reader, Dataset\n",
        "from surprise import CoClustering\n",
        "from surprise import KNNBaseline\n",
        "from surprise import KNNBasic\n",
        "from surprise import KNNWithMeans\n",
        "from surprise import KNNWithZScore\n",
        "from surprise import NMF\n",
        "from surprise import SlopeOne\n",
        "from surprise import SVD\n",
        "from surprise import SVDpp\n",
        "from surprise.model_selection import cross_validate"
      ],
      "execution_count": 0,
      "outputs": []
    },
    {
      "cell_type": "markdown",
      "metadata": {
        "id": "vV9_tKvw1xmc",
        "colab_type": "text"
      },
      "source": [
        "## **Importing data**"
      ]
    },
    {
      "cell_type": "code",
      "metadata": {
        "id": "uuxUiTQs2qkI",
        "colab_type": "code",
        "colab": {}
      },
      "source": [
        "df = pd.read_csv('ratings.csv')"
      ],
      "execution_count": 0,
      "outputs": []
    },
    {
      "cell_type": "markdown",
      "metadata": {
        "id": "gsbsyLen2uha",
        "colab_type": "text"
      },
      "source": [
        "## **Diminishing the dimensionality**\n",
        "Filtering out rarely rated books and inactive users and reducing the dimensionality."
      ]
    },
    {
      "cell_type": "code",
      "metadata": {
        "id": "r8TGi8An3nIt",
        "colab_type": "code",
        "outputId": "b1783afb-e07c-4789-8708-5c1e70e869d4",
        "colab": {
          "base_uri": "https://localhost:8080/",
          "height": 50
        }
      },
      "source": [
        "min_book_rating = 5\n",
        "filter_books = df['book_id'].value_counts() > min_book_rating\n",
        "filter_books = filter_books[filter_books].index.tolist()\n",
        "\n",
        "min_user_rating = 5\n",
        "filter_users = df['user_id'].value_counts() > min_user_rating\n",
        "filter_users = filter_users[filter_users].index.tolist()\n",
        "\n",
        "df_new = df[(df['book_id'].isin(filter_books)) & \n",
        "            (df['user_id'].isin(filter_users))][0:560980]\n",
        "print(f'the original dataset: {df.shape}')\n",
        "print(f'the new one: {df_new.shape}')"
      ],
      "execution_count": 5,
      "outputs": [
        {
          "output_type": "stream",
          "text": [
            "the original dataset: (981756, 3)\n",
            "the new one: (560980, 3)\n"
          ],
          "name": "stdout"
        }
      ]
    },
    {
      "cell_type": "markdown",
      "metadata": {
        "id": "OhgW918y4D6G",
        "colab_type": "text"
      },
      "source": [
        "## **Comparison of algorithms**"
      ]
    },
    {
      "cell_type": "markdown",
      "metadata": {
        "id": "gVV6E2d054P1",
        "colab_type": "text"
      },
      "source": [
        "### **Performing cross-validation**"
      ]
    },
    {
      "cell_type": "code",
      "metadata": {
        "id": "Y69H3NO_4TZC",
        "colab_type": "code",
        "colab": {}
      },
      "source": [
        "reader = Reader(rating_scale=(1, 5))\n",
        "data = Dataset.load_from_df(df_new[['book_id', 'user_id', 'rating']], reader)\n",
        "\n",
        "algorithms = [KNNBasic(), KNNWithMeans(), KNNWithZScore(), KNNBaseline(), \n",
        "              SVD(), SVDpp(), NMF(), SlopeOne(), CoClustering()]\n"
      ],
      "execution_count": 0,
      "outputs": []
    },
    {
      "cell_type": "code",
      "metadata": {
        "id": "N7JkijN3c2ye",
        "colab_type": "code",
        "colab": {}
      },
      "source": [
        "issue = []"
      ],
      "execution_count": 0,
      "outputs": []
    },
    {
      "cell_type": "markdown",
      "metadata": {
        "id": "N8CUxO1lM2yM",
        "colab_type": "text"
      },
      "source": [
        "#### *k-NN inspired algorithms*"
      ]
    },
    {
      "cell_type": "markdown",
      "metadata": {
        "id": "IOxL0mPwKqwQ",
        "colab_type": "text"
      },
      "source": [
        "**KNNBasic**"
      ]
    },
    {
      "cell_type": "code",
      "metadata": {
        "id": "A2ThEum_Kt8H",
        "colab_type": "code",
        "outputId": "d40edd38-f4f4-4819-d0cc-574383db81b9",
        "colab": {
          "base_uri": "https://localhost:8080/",
          "height": 117
        }
      },
      "source": [
        "res_kb = cross_validate(algorithms[0], data, measures=['rmse'], cv=3, \n",
        "                         verbose=False)\n",
        "rkb = pd.DataFrame.from_dict(res_kb).mean(axis=0)\n",
        "rkb = rkb.append(pd.Series([str(algorithms[0]).split(' ')[0].split('.')[-1]], \n",
        "                         index=['algorithm']))"
      ],
      "execution_count": 25,
      "outputs": [
        {
          "output_type": "stream",
          "text": [
            "Computing the msd similarity matrix...\n",
            "Done computing similarity matrix.\n",
            "Computing the msd similarity matrix...\n",
            "Done computing similarity matrix.\n",
            "Computing the msd similarity matrix...\n",
            "Done computing similarity matrix.\n"
          ],
          "name": "stdout"
        }
      ]
    },
    {
      "cell_type": "code",
      "metadata": {
        "id": "zaAGlwX6KwNf",
        "colab_type": "code",
        "outputId": "93802481-acf7-4974-91a7-23f6d6409dbb",
        "colab": {
          "base_uri": "https://localhost:8080/",
          "height": 100
        }
      },
      "source": [
        "rkb"
      ],
      "execution_count": 26,
      "outputs": [
        {
          "output_type": "execute_result",
          "data": {
            "text/plain": [
              "test_rmse      0.8977\n",
              "fit_time      2.42987\n",
              "test_time      14.686\n",
              "algorithm    KNNBasic\n",
              "dtype: object"
            ]
          },
          "metadata": {
            "tags": []
          },
          "execution_count": 26
        }
      ]
    },
    {
      "cell_type": "code",
      "metadata": {
        "id": "Lv1qbeHqNWoS",
        "colab_type": "code",
        "colab": {}
      },
      "source": [
        "issue.append(rkb)"
      ],
      "execution_count": 0,
      "outputs": []
    },
    {
      "cell_type": "markdown",
      "metadata": {
        "id": "pgtEp2Q5KxJN",
        "colab_type": "text"
      },
      "source": [
        "**KNNWithMeans**"
      ]
    },
    {
      "cell_type": "code",
      "metadata": {
        "id": "CZHYlerBKz6x",
        "colab_type": "code",
        "outputId": "ee391aac-3aaa-44e3-bd9b-fb7bab8582e6",
        "colab": {
          "base_uri": "https://localhost:8080/",
          "height": 117
        }
      },
      "source": [
        "res_knnm = cross_validate(algorithms[1], data, measures=['rmse'], cv=3, \n",
        "                         verbose=False)\n",
        "rknnm = pd.DataFrame.from_dict(res_knnm).mean(axis=0)\n",
        "rknnm = rknnm.append(pd.Series([str(algorithms[1]).split(' ')[0].split('.')[-1]], \n",
        "                         index=['algorithm']))"
      ],
      "execution_count": 23,
      "outputs": [
        {
          "output_type": "stream",
          "text": [
            "Computing the msd similarity matrix...\n",
            "Done computing similarity matrix.\n",
            "Computing the msd similarity matrix...\n",
            "Done computing similarity matrix.\n",
            "Computing the msd similarity matrix...\n",
            "Done computing similarity matrix.\n"
          ],
          "name": "stdout"
        }
      ]
    },
    {
      "cell_type": "code",
      "metadata": {
        "id": "g4vpuqvxK2uL",
        "colab_type": "code",
        "outputId": "abd5a06f-77e9-4738-8260-0c17cdcab91b",
        "colab": {
          "base_uri": "https://localhost:8080/",
          "height": 100
        }
      },
      "source": [
        "rknnm"
      ],
      "execution_count": 24,
      "outputs": [
        {
          "output_type": "execute_result",
          "data": {
            "text/plain": [
              "test_rmse        0.868269\n",
              "fit_time          2.51598\n",
              "test_time         16.7736\n",
              "algorithm    KNNWithMeans\n",
              "dtype: object"
            ]
          },
          "metadata": {
            "tags": []
          },
          "execution_count": 24
        }
      ]
    },
    {
      "cell_type": "code",
      "metadata": {
        "id": "r4WJCG8eNagY",
        "colab_type": "code",
        "colab": {}
      },
      "source": [
        "issue.append(rknnm)"
      ],
      "execution_count": 0,
      "outputs": []
    },
    {
      "cell_type": "markdown",
      "metadata": {
        "id": "F98Ag7PvK5Hb",
        "colab_type": "text"
      },
      "source": [
        "**KNNWithZScore**"
      ]
    },
    {
      "cell_type": "code",
      "metadata": {
        "id": "wDvOAsbyK8kk",
        "colab_type": "code",
        "outputId": "8be46ac6-1fda-4c26-9b0c-d6b92daa62a0",
        "colab": {
          "base_uri": "https://localhost:8080/",
          "height": 117
        }
      },
      "source": [
        "res_knns = cross_validate(algorithms[2], data, measures=['rmse'], cv=3, \n",
        "                         verbose=False)\n",
        "rknns = pd.DataFrame.from_dict(res_knns).mean(axis=0)\n",
        "rknns = rknns.append(pd.Series([str(algorithms[2]).split(' ')[0].split('.')[-1]], \n",
        "                         index=['algorithm']))"
      ],
      "execution_count": 21,
      "outputs": [
        {
          "output_type": "stream",
          "text": [
            "Computing the msd similarity matrix...\n",
            "Done computing similarity matrix.\n",
            "Computing the msd similarity matrix...\n",
            "Done computing similarity matrix.\n",
            "Computing the msd similarity matrix...\n",
            "Done computing similarity matrix.\n"
          ],
          "name": "stdout"
        }
      ]
    },
    {
      "cell_type": "code",
      "metadata": {
        "id": "p0OsR3RfK-f2",
        "colab_type": "code",
        "outputId": "45eab62c-836d-4b0f-e6bf-bce413ccec47",
        "colab": {
          "base_uri": "https://localhost:8080/",
          "height": 100
        }
      },
      "source": [
        "rknns"
      ],
      "execution_count": 22,
      "outputs": [
        {
          "output_type": "execute_result",
          "data": {
            "text/plain": [
              "test_rmse         0.871762\n",
              "fit_time           3.00555\n",
              "test_time          16.8211\n",
              "algorithm    KNNWithZScore\n",
              "dtype: object"
            ]
          },
          "metadata": {
            "tags": []
          },
          "execution_count": 22
        }
      ]
    },
    {
      "cell_type": "code",
      "metadata": {
        "id": "cjbAMFiYNfK3",
        "colab_type": "code",
        "colab": {}
      },
      "source": [
        "issue.append(rknns)"
      ],
      "execution_count": 0,
      "outputs": []
    },
    {
      "cell_type": "markdown",
      "metadata": {
        "id": "kCvtFghUKjai",
        "colab_type": "text"
      },
      "source": [
        "**KNNBaseline**"
      ]
    },
    {
      "cell_type": "code",
      "metadata": {
        "id": "P0QMd1EMKm0b",
        "colab_type": "code",
        "outputId": "b1f92cf0-1ae1-4b19-8c49-1039841f74fb",
        "colab": {
          "base_uri": "https://localhost:8080/",
          "height": 167
        }
      },
      "source": [
        "res_knnb = cross_validate(algorithms[3], data, measures=['rmse'], cv=3, \n",
        "                         verbose=False)\n",
        "rknnb = pd.DataFrame.from_dict(res_knnb).mean(axis=0)\n",
        "rknnb = rknnb.append(pd.Series([str(algorithms[3]).split(' ')[0].split('.')[-1]], \n",
        "                         index=['algorithm']))"
      ],
      "execution_count": 19,
      "outputs": [
        {
          "output_type": "stream",
          "text": [
            "Estimating biases using als...\n",
            "Computing the msd similarity matrix...\n",
            "Done computing similarity matrix.\n",
            "Estimating biases using als...\n",
            "Computing the msd similarity matrix...\n",
            "Done computing similarity matrix.\n",
            "Estimating biases using als...\n",
            "Computing the msd similarity matrix...\n",
            "Done computing similarity matrix.\n"
          ],
          "name": "stdout"
        }
      ]
    },
    {
      "cell_type": "code",
      "metadata": {
        "id": "AWTB9pIPKpEy",
        "colab_type": "code",
        "outputId": "7341aad6-ce46-4816-8d98-c5c7dd3bcba6",
        "colab": {
          "base_uri": "https://localhost:8080/",
          "height": 100
        }
      },
      "source": [
        "rknnb"
      ],
      "execution_count": 20,
      "outputs": [
        {
          "output_type": "execute_result",
          "data": {
            "text/plain": [
              "test_rmse       0.863546\n",
              "fit_time         5.12099\n",
              "test_time        18.7219\n",
              "algorithm    KNNBaseline\n",
              "dtype: object"
            ]
          },
          "metadata": {
            "tags": []
          },
          "execution_count": 20
        }
      ]
    },
    {
      "cell_type": "code",
      "metadata": {
        "id": "sTHdiyxLNth6",
        "colab_type": "code",
        "colab": {}
      },
      "source": [
        "issue.append(rknnb)"
      ],
      "execution_count": 0,
      "outputs": []
    },
    {
      "cell_type": "markdown",
      "metadata": {
        "id": "vwTYts-ZNzOM",
        "colab_type": "text"
      },
      "source": [
        "#### *Matrix Factorization-based algorithms*"
      ]
    },
    {
      "cell_type": "markdown",
      "metadata": {
        "id": "UtqcvfbSJLZi",
        "colab_type": "text"
      },
      "source": [
        "**SVD**"
      ]
    },
    {
      "cell_type": "code",
      "metadata": {
        "id": "GAJHdhqwJT-l",
        "colab_type": "code",
        "colab": {}
      },
      "source": [
        "res_svd = cross_validate(algorithms[4], data, measures=['rmse'], cv=3, \n",
        "                         verbose=False)\n",
        "rs = pd.DataFrame.from_dict(res_svd).mean(axis=0)\n",
        "rs = rs.append(pd.Series([str(algorithms[4]).split(' ')[0].split('.')[-1]], \n",
        "                         index=['algorithm']))"
      ],
      "execution_count": 0,
      "outputs": []
    },
    {
      "cell_type": "code",
      "metadata": {
        "id": "Wv08CcuoJ6_G",
        "colab_type": "code",
        "outputId": "343303a7-5d42-4cd7-8845-5a997415c442",
        "colab": {
          "base_uri": "https://localhost:8080/",
          "height": 100
        }
      },
      "source": [
        "rs"
      ],
      "execution_count": 16,
      "outputs": [
        {
          "output_type": "execute_result",
          "data": {
            "text/plain": [
              "test_rmse    0.85566\n",
              "fit_time     24.2881\n",
              "test_time     2.1937\n",
              "algorithm        SVD\n",
              "dtype: object"
            ]
          },
          "metadata": {
            "tags": []
          },
          "execution_count": 16
        }
      ]
    },
    {
      "cell_type": "code",
      "metadata": {
        "id": "raNbUKxpOFvE",
        "colab_type": "code",
        "colab": {}
      },
      "source": [
        "issue.append(rs)"
      ],
      "execution_count": 0,
      "outputs": []
    },
    {
      "cell_type": "markdown",
      "metadata": {
        "id": "9De4COmHJbPx",
        "colab_type": "text"
      },
      "source": [
        "**SVD++**"
      ]
    },
    {
      "cell_type": "code",
      "metadata": {
        "id": "PJ-oHPlkJfCl",
        "colab_type": "code",
        "colab": {}
      },
      "source": [
        "res_svd_pp = cross_validate(algorithms[5], data, measures=['rmse'], cv=3, \n",
        "                         verbose=False)\n",
        "rsp = pd.DataFrame.from_dict(res_svd_pp).mean(axis=0)\n",
        "rsp = rsp.append(pd.Series([str(algorithms[5]).split(' ')[0].split('.')[-1]], \n",
        "                         index=['algorithm']))"
      ],
      "execution_count": 0,
      "outputs": []
    },
    {
      "cell_type": "code",
      "metadata": {
        "id": "VtVXqq_FKRmN",
        "colab_type": "code",
        "outputId": "96c7dc96-853f-42c0-b131-6d918b40a485",
        "colab": {
          "base_uri": "https://localhost:8080/",
          "height": 100
        }
      },
      "source": [
        "rsp"
      ],
      "execution_count": 18,
      "outputs": [
        {
          "output_type": "execute_result",
          "data": {
            "text/plain": [
              "test_rmse    0.840411\n",
              "fit_time      331.189\n",
              "test_time     17.6463\n",
              "algorithm       SVDpp\n",
              "dtype: object"
            ]
          },
          "metadata": {
            "tags": []
          },
          "execution_count": 18
        }
      ]
    },
    {
      "cell_type": "code",
      "metadata": {
        "id": "jFmyn4ehOJXl",
        "colab_type": "code",
        "colab": {}
      },
      "source": [
        "issue.append(rsp)"
      ],
      "execution_count": 0,
      "outputs": []
    },
    {
      "cell_type": "markdown",
      "metadata": {
        "id": "7Yq5ZU65JvLw",
        "colab_type": "text"
      },
      "source": [
        "**NMF**"
      ]
    },
    {
      "cell_type": "code",
      "metadata": {
        "id": "Mr4kCaMuJznd",
        "colab_type": "code",
        "colab": {}
      },
      "source": [
        "res_nmf = cross_validate(algorithms[6], data, measures=['rmse'], cv=3, \n",
        "                         verbose=False)\n",
        "rn = pd.DataFrame.from_dict(res_nmf).mean(axis=0)\n",
        "rn = rn.append(pd.Series([str(algorithms[6]).split(' ')[0].split('.')[-1]], \n",
        "                         index=['algorithm']))"
      ],
      "execution_count": 0,
      "outputs": []
    },
    {
      "cell_type": "code",
      "metadata": {
        "id": "wGeG-KB9KWIW",
        "colab_type": "code",
        "outputId": "02dcdc52-bbab-48b0-cdc3-9fe459fb016c",
        "colab": {
          "base_uri": "https://localhost:8080/",
          "height": 100
        }
      },
      "source": [
        "rn"
      ],
      "execution_count": 13,
      "outputs": [
        {
          "output_type": "execute_result",
          "data": {
            "text/plain": [
              "test_rmse    0.907911\n",
              "fit_time      29.4093\n",
              "test_time     1.91551\n",
              "algorithm         NMF\n",
              "dtype: object"
            ]
          },
          "metadata": {
            "tags": []
          },
          "execution_count": 13
        }
      ]
    },
    {
      "cell_type": "code",
      "metadata": {
        "id": "AmnXHrMUOMg_",
        "colab_type": "code",
        "colab": {}
      },
      "source": [
        "issue.append(rn)"
      ],
      "execution_count": 0,
      "outputs": []
    },
    {
      "cell_type": "markdown",
      "metadata": {
        "id": "dqKdnmHQOTe0",
        "colab_type": "text"
      },
      "source": [
        "#### *Slope One*"
      ]
    },
    {
      "cell_type": "markdown",
      "metadata": {
        "id": "bqCKrfyQJm9K",
        "colab_type": "text"
      },
      "source": [
        "**SlopeOne**"
      ]
    },
    {
      "cell_type": "code",
      "metadata": {
        "id": "OsOeMWIzJrIL",
        "colab_type": "code",
        "colab": {}
      },
      "source": [
        "res_slope_one = cross_validate(algorithms[7], data, measures=['rmse'], \n",
        "                               cv=3, verbose=False)\n",
        "rsl = pd.DataFrame.from_dict(res_slope_one).mean(axis=0)\n",
        "rsl = rsl.append(pd.Series([str(algorithms[7]).split(' ')[0].split('.')[-1]], \n",
        "                         index=['algorithm']))"
      ],
      "execution_count": 0,
      "outputs": []
    },
    {
      "cell_type": "code",
      "metadata": {
        "id": "2xP9xnqWKUK7",
        "colab_type": "code",
        "outputId": "fcb9e832-1ee1-465c-907e-7b2fad6fdd39",
        "colab": {
          "base_uri": "https://localhost:8080/",
          "height": 100
        }
      },
      "source": [
        "rsl"
      ],
      "execution_count": 9,
      "outputs": [
        {
          "output_type": "execute_result",
          "data": {
            "text/plain": [
              "test_rmse    0.865982\n",
              "fit_time       32.229\n",
              "test_time     12.7152\n",
              "algorithm    SlopeOne\n",
              "dtype: object"
            ]
          },
          "metadata": {
            "tags": []
          },
          "execution_count": 9
        }
      ]
    },
    {
      "cell_type": "code",
      "metadata": {
        "id": "DPVe0EdgOjWo",
        "colab_type": "code",
        "colab": {}
      },
      "source": [
        "issue.append(rsl)"
      ],
      "execution_count": 0,
      "outputs": []
    },
    {
      "cell_type": "markdown",
      "metadata": {
        "id": "f1Xa3TDZOpFZ",
        "colab_type": "text"
      },
      "source": [
        "#### *Co-clustering*"
      ]
    },
    {
      "cell_type": "markdown",
      "metadata": {
        "id": "hSIpBTg6LNcK",
        "colab_type": "text"
      },
      "source": [
        "**CoClustering**"
      ]
    },
    {
      "cell_type": "code",
      "metadata": {
        "id": "plLCEoNKLSpT",
        "colab_type": "code",
        "colab": {}
      },
      "source": [
        "res_cocl = cross_validate(algorithms[8], data, measures=['rmse'], cv=3, \n",
        "                         verbose=False)\n",
        "rc = pd.DataFrame.from_dict(res_cocl).mean(axis=0)\n",
        "rc = rc.append(pd.Series([str(algorithms[8]).split(' ')[0].split('.')[-1]], \n",
        "                         index=['algorithm']))"
      ],
      "execution_count": 0,
      "outputs": []
    },
    {
      "cell_type": "code",
      "metadata": {
        "id": "VGn8_c_LLVk8",
        "colab_type": "code",
        "outputId": "3cc8344a-96a0-4c9c-96ff-cb4951e1aae2",
        "colab": {
          "base_uri": "https://localhost:8080/",
          "height": 100
        }
      },
      "source": [
        "rc"
      ],
      "execution_count": 11,
      "outputs": [
        {
          "output_type": "execute_result",
          "data": {
            "text/plain": [
              "test_rmse         0.88531\n",
              "fit_time          10.9854\n",
              "test_time         1.72785\n",
              "algorithm    CoClustering\n",
              "dtype: object"
            ]
          },
          "metadata": {
            "tags": []
          },
          "execution_count": 11
        }
      ]
    },
    {
      "cell_type": "code",
      "metadata": {
        "id": "Nys0vd8qOmQE",
        "colab_type": "code",
        "colab": {}
      },
      "source": [
        "issue.append(rc)"
      ],
      "execution_count": 0,
      "outputs": []
    },
    {
      "cell_type": "markdown",
      "metadata": {
        "id": "vw5BK5TPOwDX",
        "colab_type": "text"
      },
      "source": [
        "### **Comparing results**"
      ]
    },
    {
      "cell_type": "code",
      "metadata": {
        "id": "_a-Qsr22f_Od",
        "colab_type": "code",
        "colab": {}
      },
      "source": [
        "benchmark = pd.DataFrame(issue).set_index('algorithm')"
      ],
      "execution_count": 0,
      "outputs": []
    },
    {
      "cell_type": "code",
      "metadata": {
        "id": "tlEUZQV9gOEA",
        "colab_type": "code",
        "outputId": "759c1883-b8c2-448c-aec0-e0cb3b3df902",
        "colab": {
          "base_uri": "https://localhost:8080/",
          "height": 348
        }
      },
      "source": [
        "benchmark"
      ],
      "execution_count": 37,
      "outputs": [
        {
          "output_type": "execute_result",
          "data": {
            "text/html": [
              "<div>\n",
              "<style scoped>\n",
              "    .dataframe tbody tr th:only-of-type {\n",
              "        vertical-align: middle;\n",
              "    }\n",
              "\n",
              "    .dataframe tbody tr th {\n",
              "        vertical-align: top;\n",
              "    }\n",
              "\n",
              "    .dataframe thead th {\n",
              "        text-align: right;\n",
              "    }\n",
              "</style>\n",
              "<table border=\"1\" class=\"dataframe\">\n",
              "  <thead>\n",
              "    <tr style=\"text-align: right;\">\n",
              "      <th></th>\n",
              "      <th>test_rmse</th>\n",
              "      <th>fit_time</th>\n",
              "      <th>test_time</th>\n",
              "    </tr>\n",
              "    <tr>\n",
              "      <th>algorithm</th>\n",
              "      <th></th>\n",
              "      <th></th>\n",
              "      <th></th>\n",
              "    </tr>\n",
              "  </thead>\n",
              "  <tbody>\n",
              "    <tr>\n",
              "      <th>KNNBasic</th>\n",
              "      <td>0.897700</td>\n",
              "      <td>2.429874</td>\n",
              "      <td>14.685977</td>\n",
              "    </tr>\n",
              "    <tr>\n",
              "      <th>KNNWithMeans</th>\n",
              "      <td>0.868269</td>\n",
              "      <td>2.515981</td>\n",
              "      <td>16.773579</td>\n",
              "    </tr>\n",
              "    <tr>\n",
              "      <th>KNNWithZScore</th>\n",
              "      <td>0.871762</td>\n",
              "      <td>3.005555</td>\n",
              "      <td>16.821147</td>\n",
              "    </tr>\n",
              "    <tr>\n",
              "      <th>KNNBaseline</th>\n",
              "      <td>0.863546</td>\n",
              "      <td>5.120994</td>\n",
              "      <td>18.721880</td>\n",
              "    </tr>\n",
              "    <tr>\n",
              "      <th>SVD</th>\n",
              "      <td>0.855660</td>\n",
              "      <td>24.288146</td>\n",
              "      <td>2.193698</td>\n",
              "    </tr>\n",
              "    <tr>\n",
              "      <th>SVDpp</th>\n",
              "      <td>0.840411</td>\n",
              "      <td>331.188911</td>\n",
              "      <td>17.646263</td>\n",
              "    </tr>\n",
              "    <tr>\n",
              "      <th>NMF</th>\n",
              "      <td>0.907911</td>\n",
              "      <td>29.409344</td>\n",
              "      <td>1.915507</td>\n",
              "    </tr>\n",
              "    <tr>\n",
              "      <th>SlopeOne</th>\n",
              "      <td>0.865982</td>\n",
              "      <td>32.229018</td>\n",
              "      <td>12.715240</td>\n",
              "    </tr>\n",
              "    <tr>\n",
              "      <th>CoClustering</th>\n",
              "      <td>0.885310</td>\n",
              "      <td>10.985380</td>\n",
              "      <td>1.727848</td>\n",
              "    </tr>\n",
              "  </tbody>\n",
              "</table>\n",
              "</div>"
            ],
            "text/plain": [
              "               test_rmse    fit_time  test_time\n",
              "algorithm                                      \n",
              "KNNBasic        0.897700    2.429874  14.685977\n",
              "KNNWithMeans    0.868269    2.515981  16.773579\n",
              "KNNWithZScore   0.871762    3.005555  16.821147\n",
              "KNNBaseline     0.863546    5.120994  18.721880\n",
              "SVD             0.855660   24.288146   2.193698\n",
              "SVDpp           0.840411  331.188911  17.646263\n",
              "NMF             0.907911   29.409344   1.915507\n",
              "SlopeOne        0.865982   32.229018  12.715240\n",
              "CoClustering    0.885310   10.985380   1.727848"
            ]
          },
          "metadata": {
            "tags": []
          },
          "execution_count": 37
        }
      ]
    },
    {
      "cell_type": "markdown",
      "metadata": {
        "id": "b00Wo8X23sUG",
        "colab_type": "text"
      },
      "source": [
        "The best one by RMSE is SVD++ but it takes too much time => the winner is SVD. "
      ]
    }
  ]
}