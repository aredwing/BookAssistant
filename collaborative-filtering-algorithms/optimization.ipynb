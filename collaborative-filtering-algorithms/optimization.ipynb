{
  "nbformat": 4,
  "nbformat_minor": 0,
  "metadata": {
    "colab": {
      "name": "optimization.ipynb",
      "provenance": [],
      "collapsed_sections": [],
      "toc_visible": true
    },
    "kernelspec": {
      "name": "python3",
      "display_name": "Python 3"
    }
  },
  "cells": [
    {
      "cell_type": "markdown",
      "metadata": {
        "id": "azBnz-n2fHRh",
        "colab_type": "text"
      },
      "source": [
        "# **Optimization of SVD**"
      ]
    },
    {
      "cell_type": "markdown",
      "metadata": {
        "id": "nAFsAuAmfLX4",
        "colab_type": "text"
      },
      "source": [
        "## **Installing Surprise**"
      ]
    },
    {
      "cell_type": "code",
      "metadata": {
        "id": "JhgteWMGfPnP",
        "colab_type": "code",
        "outputId": "712e2f24-7299-4cb7-e8f9-fda5850db36b",
        "colab": {
          "base_uri": "https://localhost:8080/",
          "height": 100
        }
      },
      "source": [
        "!pip install scikit-surprise"
      ],
      "execution_count": 25,
      "outputs": [
        {
          "output_type": "stream",
          "text": [
            "Requirement already satisfied: scikit-surprise in /usr/local/lib/python3.6/dist-packages (1.1.0)\n",
            "Requirement already satisfied: numpy>=1.11.2 in /usr/local/lib/python3.6/dist-packages (from scikit-surprise) (1.18.4)\n",
            "Requirement already satisfied: joblib>=0.11 in /usr/local/lib/python3.6/dist-packages (from scikit-surprise) (0.15.1)\n",
            "Requirement already satisfied: six>=1.10.0 in /usr/local/lib/python3.6/dist-packages (from scikit-surprise) (1.12.0)\n",
            "Requirement already satisfied: scipy>=1.0.0 in /usr/local/lib/python3.6/dist-packages (from scikit-surprise) (1.4.1)\n"
          ],
          "name": "stdout"
        }
      ]
    },
    {
      "cell_type": "markdown",
      "metadata": {
        "id": "lGPKXQP_fSFo",
        "colab_type": "text"
      },
      "source": [
        "## **Importing libraries**"
      ]
    },
    {
      "cell_type": "code",
      "metadata": {
        "id": "tJPszh61fk3e",
        "colab_type": "code",
        "colab": {}
      },
      "source": [
        "import pandas as pd\n",
        "from surprise import Dataset, Reader\n",
        "from surprise import SVD\n",
        "from surprise.model_selection import GridSearchCV"
      ],
      "execution_count": 0,
      "outputs": []
    },
    {
      "cell_type": "markdown",
      "metadata": {
        "id": "RaURGkOGgOVR",
        "colab_type": "text"
      },
      "source": [
        "## **Importing dataset**"
      ]
    },
    {
      "cell_type": "code",
      "metadata": {
        "id": "iROr0wGvgVTV",
        "colab_type": "code",
        "colab": {}
      },
      "source": [
        "df = pd.read_csv('ratings.csv')"
      ],
      "execution_count": 0,
      "outputs": []
    },
    {
      "cell_type": "markdown",
      "metadata": {
        "id": "IFNpW8ethL6B",
        "colab_type": "text"
      },
      "source": [
        "## **Preparing data**"
      ]
    },
    {
      "cell_type": "code",
      "metadata": {
        "id": "78hx6DBihOmN",
        "colab_type": "code",
        "colab": {}
      },
      "source": [
        "min_book_rating = 5\n",
        "filter_books = df['book_id'].value_counts() > min_book_rating\n",
        "filter_books = filter_books[filter_books].index.tolist()\n",
        "\n",
        "min_user_rating = 5\n",
        "filter_users = df['user_id'].value_counts() > min_user_rating\n",
        "filter_users = filter_users[filter_users].index.tolist()\n",
        "\n",
        "df_new = df[(df['book_id'].isin(filter_books)) & \n",
        "            (df['user_id'].isin(filter_users))][0:560980]"
      ],
      "execution_count": 0,
      "outputs": []
    },
    {
      "cell_type": "code",
      "metadata": {
        "id": "qlqcuwdOhl-2",
        "colab_type": "code",
        "colab": {}
      },
      "source": [
        "reader = Reader(rating_scale=(1, 5))\n",
        "data = Dataset.load_from_df(df_new[['book_id', 'user_id', 'rating']], reader)"
      ],
      "execution_count": 0,
      "outputs": []
    },
    {
      "cell_type": "markdown",
      "metadata": {
        "id": "2tM9Zz5GhS7x",
        "colab_type": "text"
      },
      "source": [
        "## **Optimization of SVD algorithm**"
      ]
    },
    {
      "cell_type": "code",
      "metadata": {
        "id": "WPwBMf0Rh0mk",
        "colab_type": "code",
        "colab": {}
      },
      "source": [
        "param_grid = {'n_epochs': [5, 10, 20],\n",
        "              'lr_all': [0.002, 0.005],\n",
        "              'reg_all': [0.2, 0.4, 0.6]}\n",
        "\n",
        "gs = GridSearchCV(SVD, param_grid, measures=['rmse', 'mae'], cv=3)\n",
        "\n",
        "gs.fit(data)"
      ],
      "execution_count": 0,
      "outputs": []
    },
    {
      "cell_type": "code",
      "metadata": {
        "id": "qkg-gESnipfe",
        "colab_type": "code",
        "outputId": "27c1a21c-41ab-4ac3-abfc-857b388978f8",
        "colab": {
          "base_uri": "https://localhost:8080/",
          "height": 33
        }
      },
      "source": [
        "gs.best_score['rmse']"
      ],
      "execution_count": 31,
      "outputs": [
        {
          "output_type": "execute_result",
          "data": {
            "text/plain": [
              "0.8507246927325939"
            ]
          },
          "metadata": {
            "tags": []
          },
          "execution_count": 31
        }
      ]
    },
    {
      "cell_type": "code",
      "metadata": {
        "id": "XdKiCQ-Diste",
        "colab_type": "code",
        "outputId": "704d9093-8b8a-427c-be23-805946776b17",
        "colab": {
          "base_uri": "https://localhost:8080/",
          "height": 33
        }
      },
      "source": [
        "gs.best_params['rmse']"
      ],
      "execution_count": 32,
      "outputs": [
        {
          "output_type": "execute_result",
          "data": {
            "text/plain": [
              "{'lr_all': 0.005, 'n_epochs': 20, 'reg_all': 0.2}"
            ]
          },
          "metadata": {
            "tags": []
          },
          "execution_count": 32
        }
      ]
    }
  ]
}