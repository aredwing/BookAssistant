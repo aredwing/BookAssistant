{
  "nbformat": 4,
  "nbformat_minor": 0,
  "metadata": {
    "colab": {
      "name": "collaborative-filtering.ipynb",
      "provenance": [],
      "machine_shape": "hm"
    },
    "kernelspec": {
      "name": "python3",
      "display_name": "Python 3"
    }
  },
  "cells": [
    {
      "cell_type": "code",
      "metadata": {
        "id": "zdVbyDXQp52k",
        "colab_type": "code",
        "colab": {
          "base_uri": "https://localhost:8080/",
          "height": 153
        },
        "outputId": "ad8d1f97-a959-49f0-f412-a57de0309947"
      },
      "source": [
        "import pandas as pd\n",
        "import numpy as np\n",
        "import seaborn as sns\n",
        "import matplotlib.pyplot as plt\n",
        "\n",
        "!pip install scikit-surprise"
      ],
      "execution_count": 3,
      "outputs": [
        {
          "output_type": "stream",
          "text": [
            "/usr/local/lib/python3.6/dist-packages/statsmodels/tools/_testing.py:19: FutureWarning: pandas.util.testing is deprecated. Use the functions in the public API at pandas.testing instead.\n",
            "  import pandas.util.testing as tm\n"
          ],
          "name": "stderr"
        },
        {
          "output_type": "stream",
          "text": [
            "Requirement already satisfied: scikit-surprise in /usr/local/lib/python3.6/dist-packages (1.1.0)\n",
            "Requirement already satisfied: scipy>=1.0.0 in /usr/local/lib/python3.6/dist-packages (from scikit-surprise) (1.4.1)\n",
            "Requirement already satisfied: numpy>=1.11.2 in /usr/local/lib/python3.6/dist-packages (from scikit-surprise) (1.18.4)\n",
            "Requirement already satisfied: joblib>=0.11 in /usr/local/lib/python3.6/dist-packages (from scikit-surprise) (0.14.1)\n",
            "Requirement already satisfied: six>=1.10.0 in /usr/local/lib/python3.6/dist-packages (from scikit-surprise) (1.12.0)\n"
          ],
          "name": "stdout"
        }
      ]
    },
    {
      "cell_type": "code",
      "metadata": {
        "id": "cSxJEs8rqRXw",
        "colab_type": "code",
        "colab": {}
      },
      "source": [
        "from surprise import Reader, Dataset\n",
        "from surprise import NormalPredictor, KNNBasic, KNNWithMeans, KNNWithZScore\n",
        "from surprise import KNNBaseline, SVD, BaselineOnly, SVDpp, NMF, SlopeOne\n",
        "from surprise import CoClustering\n",
        "from surprise import accuracy\n",
        "from surprise.accuracy import rmse\n",
        "from surprise.model_selection import cross_validate, train_test_split\n",
        "from surprise.model_selection import GridSearchCV"
      ],
      "execution_count": 0,
      "outputs": []
    },
    {
      "cell_type": "markdown",
      "metadata": {
        "id": "CMpD26uT9p5o",
        "colab_type": "text"
      },
      "source": [
        "Importing data and filtering out rarely rated books and inactive users in order to reduce the size of the dataset."
      ]
    },
    {
      "cell_type": "code",
      "metadata": {
        "id": "YQYKqddbq5dH",
        "colab_type": "code",
        "colab": {
          "base_uri": "https://localhost:8080/",
          "height": 50
        },
        "outputId": "5285c716-ea33-4afc-d3bd-1e3d114a5e70"
      },
      "source": [
        "df = pd.read_csv('ratings.csv')\n",
        "\n",
        "min_book_rating = 5\n",
        "filter_books = df['book_id'].value_counts() > min_book_rating\n",
        "filter_books = filter_books[filter_books].index.tolist()\n",
        "\n",
        "min_user_rating = 5\n",
        "filter_users = df['user_id'].value_counts() > min_user_rating\n",
        "filter_users = filter_users[filter_users].index.tolist()\n",
        "\n",
        "df_new = df[(df['book_id'].isin(filter_books)) & (df['user_id'].isin(filter_users))]\n",
        "print(f'the original dataset: {df.shape}')\n",
        "print(f'the new one: {df_new.shape}')"
      ],
      "execution_count": 6,
      "outputs": [
        {
          "output_type": "stream",
          "text": [
            "the original dataset: (981756, 3)\n",
            "the new one: (916880, 3)\n"
          ],
          "name": "stdout"
        }
      ]
    },
    {
      "cell_type": "markdown",
      "metadata": {
        "id": "eWxuI5W0_9E1",
        "colab_type": "text"
      },
      "source": [
        "Choosing the algorithm, performing cross-validation.\n"
      ]
    },
    {
      "cell_type": "code",
      "metadata": {
        "id": "hlb-67VvrAyy",
        "colab_type": "code",
        "colab": {}
      },
      "source": [
        "reader = Reader(rating_scale=(1, 5))\n",
        "data = Dataset.load_from_df(df_new[['book_id', 'user_id', 'rating']][0:500000], reader)\n",
        "\n",
        "algorithms = [SVD(), SVDpp(), SlopeOne(), NMF(), NormalPredictor(), \n",
        "              KNNBaseline(), KNNBasic(), KNNWithMeans(),\n",
        "              KNNWithZScore(), BaselineOnly(), CoClustering()]\n"
      ],
      "execution_count": 0,
      "outputs": []
    },
    {
      "cell_type": "markdown",
      "metadata": {
        "id": "duuMh9xMAnBr",
        "colab_type": "text"
      },
      "source": [
        "SVD."
      ]
    },
    {
      "cell_type": "code",
      "metadata": {
        "id": "fjv_UfYUAkaH",
        "colab_type": "code",
        "colab": {
          "base_uri": "https://localhost:8080/",
          "height": 100
        },
        "outputId": "64c0a9e5-f31c-4065-dedd-a4c1a47f1f52"
      },
      "source": [
        "res_svd = cross_validate(algorithms[0], data, measures=['RMSE'], cv=3, \n",
        "                         verbose=False)\n",
        "rs = pd.DataFrame.from_dict(res_svd).mean(axis=0)\n",
        "rs = rs.append(pd.Series([str(algorithms[0]).split(' ')[0].split('.')[-1]], \n",
        "                         index=['algorithm']))\n",
        "\n",
        "print(rs)"
      ],
      "execution_count": 11,
      "outputs": [
        {
          "output_type": "stream",
          "text": [
            "test_rmse    0.858182\n",
            "fit_time      21.0569\n",
            "test_time     2.07682\n",
            "algorithm         SVD\n",
            "dtype: object\n"
          ],
          "name": "stdout"
        }
      ]
    },
    {
      "cell_type": "markdown",
      "metadata": {
        "id": "GuAm1WBgDboU",
        "colab_type": "text"
      },
      "source": [
        "SVDpp."
      ]
    },
    {
      "cell_type": "code",
      "metadata": {
        "id": "SLTzOsaTDab6",
        "colab_type": "code",
        "colab": {
          "base_uri": "https://localhost:8080/",
          "height": 100
        },
        "outputId": "4f8b2d6c-bba0-42a1-f78b-728198ba4792"
      },
      "source": [
        "res_svd_pp = cross_validate(algorithms[1], data, measures=['RMSE'], cv=3, \n",
        "                         verbose=False)\n",
        "rsp = pd.DataFrame.from_dict(res_svd_pp).mean(axis=0)\n",
        "rsp = rsp.append(pd.Series([str(algorithms[1]).split(' ')[0].split('.')[-1]], \n",
        "                         index=['algorithm']))\n",
        "\n",
        "print(rsp)"
      ],
      "execution_count": 14,
      "outputs": [
        {
          "output_type": "stream",
          "text": [
            "test_rmse    0.842579\n",
            "fit_time      299.102\n",
            "test_time     16.4027\n",
            "algorithm       SVDpp\n",
            "dtype: object\n"
          ],
          "name": "stdout"
        }
      ]
    },
    {
      "cell_type": "markdown",
      "metadata": {
        "id": "3U4IJb5OMA_I",
        "colab_type": "text"
      },
      "source": [
        "SlopeOne."
      ]
    },
    {
      "cell_type": "code",
      "metadata": {
        "id": "w7hmL-pvMFxn",
        "colab_type": "code",
        "colab": {
          "base_uri": "https://localhost:8080/",
          "height": 100
        },
        "outputId": "0360cb50-4684-4485-be97-031e27885793"
      },
      "source": [
        "res_slope_one = cross_validate(algorithms[2], data, measures=['RMSE'], cv=3, \n",
        "                         verbose=False)\n",
        "rsl = pd.DataFrame.from_dict(res_slope_one).mean(axis=0)\n",
        "rsl = rsl.append(pd.Series([str(algorithms[2]).split(' ')[0].split('.')[-1]], \n",
        "                         index=['algorithm']))\n",
        "\n",
        "print(rsl)"
      ],
      "execution_count": 15,
      "outputs": [
        {
          "output_type": "stream",
          "text": [
            "test_rmse    0.867739\n",
            "fit_time      29.4719\n",
            "test_time     12.1835\n",
            "algorithm    SlopeOne\n",
            "dtype: object\n"
          ],
          "name": "stdout"
        }
      ]
    },
    {
      "cell_type": "markdown",
      "metadata": {
        "id": "u67JuWJbMqYx",
        "colab_type": "text"
      },
      "source": [
        "NMF."
      ]
    },
    {
      "cell_type": "code",
      "metadata": {
        "id": "_3mQV65qMvOw",
        "colab_type": "code",
        "colab": {
          "base_uri": "https://localhost:8080/",
          "height": 100
        },
        "outputId": "75deb29f-d32f-4a76-929b-9a990dde626e"
      },
      "source": [
        "res_nmf = cross_validate(algorithms[3], data, measures=['RMSE'], cv=3, \n",
        "                         verbose=False)\n",
        "rn = pd.DataFrame.from_dict(res_nmf).mean(axis=0)\n",
        "rn = rn.append(pd.Series([str(algorithms[3]).split(' ')[0].split('.')[-1]], \n",
        "                         index=['algorithm']))\n",
        "\n",
        "print(rn)"
      ],
      "execution_count": 16,
      "outputs": [
        {
          "output_type": "stream",
          "text": [
            "test_rmse    0.911373\n",
            "fit_time      28.1495\n",
            "test_time     1.78277\n",
            "algorithm         NMF\n",
            "dtype: object\n"
          ],
          "name": "stdout"
        }
      ]
    },
    {
      "cell_type": "markdown",
      "metadata": {
        "id": "GJvl_StwNP0B",
        "colab_type": "text"
      },
      "source": [
        "NormalPredictor."
      ]
    },
    {
      "cell_type": "code",
      "metadata": {
        "id": "bSw9LrsJNUyS",
        "colab_type": "code",
        "colab": {
          "base_uri": "https://localhost:8080/",
          "height": 100
        },
        "outputId": "e50c707a-162b-477f-d990-ae14fe1603ca"
      },
      "source": [
        "res_np = cross_validate(algorithms[4], data, measures=['RMSE'], cv=3, \n",
        "                         verbose=False)\n",
        "rnp = pd.DataFrame.from_dict(res_np).mean(axis=0)\n",
        "rnp = rnp.append(pd.Series([str(algorithms[4]).split(' ')[0].split('.')[-1]], \n",
        "                         index=['algorithm']))\n",
        "\n",
        "print(rnp)"
      ],
      "execution_count": 17,
      "outputs": [
        {
          "output_type": "stream",
          "text": [
            "test_rmse            1.33274\n",
            "fit_time            0.622067\n",
            "test_time            1.85176\n",
            "algorithm    NormalPredictor\n",
            "dtype: object\n"
          ],
          "name": "stdout"
        }
      ]
    },
    {
      "cell_type": "markdown",
      "metadata": {
        "id": "n1Vt_OuHNhZH",
        "colab_type": "text"
      },
      "source": [
        "KNNBaseline."
      ]
    },
    {
      "cell_type": "code",
      "metadata": {
        "id": "HdgwSJy5Nlze",
        "colab_type": "code",
        "colab": {
          "base_uri": "https://localhost:8080/",
          "height": 250
        },
        "outputId": "97062eb8-7d23-4e12-ddf4-ac5e94cec824"
      },
      "source": [
        "res_knnb = cross_validate(algorithms[5], data, measures=['RMSE'], cv=3, \n",
        "                         verbose=False)\n",
        "rknnb = pd.DataFrame.from_dict(res_knnb).mean(axis=0)\n",
        "rknnb = rknnb.append(pd.Series([str(algorithms[5]).split(' ')[0].split('.')[-1]], \n",
        "                         index=['algorithm']))\n",
        "\n",
        "print(rknnb)"
      ],
      "execution_count": 18,
      "outputs": [
        {
          "output_type": "stream",
          "text": [
            "Estimating biases using als...\n",
            "Computing the msd similarity matrix...\n",
            "Done computing similarity matrix.\n",
            "Estimating biases using als...\n",
            "Computing the msd similarity matrix...\n",
            "Done computing similarity matrix.\n",
            "Estimating biases using als...\n",
            "Computing the msd similarity matrix...\n",
            "Done computing similarity matrix.\n",
            "test_rmse       0.867567\n",
            "fit_time         3.71329\n",
            "test_time        16.3515\n",
            "algorithm    KNNBaseline\n",
            "dtype: object\n"
          ],
          "name": "stdout"
        }
      ]
    },
    {
      "cell_type": "markdown",
      "metadata": {
        "id": "jrPVuhqhN-dl",
        "colab_type": "text"
      },
      "source": [
        "KNNBasic."
      ]
    },
    {
      "cell_type": "code",
      "metadata": {
        "id": "u93FuFQYOAAz",
        "colab_type": "code",
        "colab": {
          "base_uri": "https://localhost:8080/",
          "height": 200
        },
        "outputId": "c160f0a5-14cf-44a0-83e1-fe2a062251b8"
      },
      "source": [
        "res_kb = cross_validate(algorithms[6], data, measures=['RMSE'], cv=3, \n",
        "                         verbose=False)\n",
        "rkb = pd.DataFrame.from_dict(res_kb).mean(axis=0)\n",
        "rkb = rkb.append(pd.Series([str(algorithms[6]).split(' ')[0].split('.')[-1]], \n",
        "                         index=['algorithm']))\n",
        "\n",
        "print(rkb)"
      ],
      "execution_count": 19,
      "outputs": [
        {
          "output_type": "stream",
          "text": [
            "Computing the msd similarity matrix...\n",
            "Done computing similarity matrix.\n",
            "Computing the msd similarity matrix...\n",
            "Done computing similarity matrix.\n",
            "Computing the msd similarity matrix...\n",
            "Done computing similarity matrix.\n",
            "test_rmse    0.900036\n",
            "fit_time      2.11614\n",
            "test_time     13.2837\n",
            "algorithm    KNNBasic\n",
            "dtype: object\n"
          ],
          "name": "stdout"
        }
      ]
    },
    {
      "cell_type": "markdown",
      "metadata": {
        "id": "8kkEET1aOYp-",
        "colab_type": "text"
      },
      "source": [
        "KNNWithMeans."
      ]
    },
    {
      "cell_type": "code",
      "metadata": {
        "id": "qaH-AWXcOdxV",
        "colab_type": "code",
        "colab": {
          "base_uri": "https://localhost:8080/",
          "height": 200
        },
        "outputId": "0e58d9b1-5a2e-4c1e-e2b2-5c25339af6be"
      },
      "source": [
        "res_knnm = cross_validate(algorithms[7], data, measures=['RMSE'], cv=3, \n",
        "                         verbose=False)\n",
        "rknnm = pd.DataFrame.from_dict(res_knnm).mean(axis=0)\n",
        "rknnm = rknnm.append(pd.Series([str(algorithms[7]).split(' ')[0].split('.')[-1]], \n",
        "                         index=['algorithm']))\n",
        "\n",
        "print(rknnm)"
      ],
      "execution_count": 20,
      "outputs": [
        {
          "output_type": "stream",
          "text": [
            "Computing the msd similarity matrix...\n",
            "Done computing similarity matrix.\n",
            "Computing the msd similarity matrix...\n",
            "Done computing similarity matrix.\n",
            "Computing the msd similarity matrix...\n",
            "Done computing similarity matrix.\n",
            "test_rmse        0.871225\n",
            "fit_time          2.24745\n",
            "test_time         14.0407\n",
            "algorithm    KNNWithMeans\n",
            "dtype: object\n"
          ],
          "name": "stdout"
        }
      ]
    },
    {
      "cell_type": "markdown",
      "metadata": {
        "id": "Y53CzSBtOvvr",
        "colab_type": "text"
      },
      "source": [
        "KNNWithZScore."
      ]
    },
    {
      "cell_type": "code",
      "metadata": {
        "id": "EUK3bYQBO8Iy",
        "colab_type": "code",
        "colab": {
          "base_uri": "https://localhost:8080/",
          "height": 200
        },
        "outputId": "5dbd01ca-11dd-4c27-f529-5a371a940cfa"
      },
      "source": [
        "res_knns = cross_validate(algorithms[8], data, measures=['RMSE'], cv=3, \n",
        "                         verbose=False)\n",
        "rknns = pd.DataFrame.from_dict(res_knns).mean(axis=0)\n",
        "rknns = rknns.append(pd.Series([str(algorithms[8]).split(' ')[0].split('.')[-1]], \n",
        "                         index=['algorithm']))\n",
        "\n",
        "print(rknns)"
      ],
      "execution_count": 21,
      "outputs": [
        {
          "output_type": "stream",
          "text": [
            "Computing the msd similarity matrix...\n",
            "Done computing similarity matrix.\n",
            "Computing the msd similarity matrix...\n",
            "Done computing similarity matrix.\n",
            "Computing the msd similarity matrix...\n",
            "Done computing similarity matrix.\n",
            "test_rmse         0.874366\n",
            "fit_time           2.52029\n",
            "test_time          15.3096\n",
            "algorithm    KNNWithZScore\n",
            "dtype: object\n"
          ],
          "name": "stdout"
        }
      ]
    },
    {
      "cell_type": "markdown",
      "metadata": {
        "id": "hneaVjkePJaP",
        "colab_type": "text"
      },
      "source": [
        "BaselineOnly."
      ]
    },
    {
      "cell_type": "code",
      "metadata": {
        "id": "yCcI8t09PMyn",
        "colab_type": "code",
        "colab": {
          "base_uri": "https://localhost:8080/",
          "height": 150
        },
        "outputId": "507b71e7-37f6-4455-ff30-3dfbcccede91"
      },
      "source": [
        "res_bl = cross_validate(algorithms[9], data, measures=['RMSE'], cv=3, \n",
        "                         verbose=False)\n",
        "rbl = pd.DataFrame.from_dict(res_bl).mean(axis=0)\n",
        "rbl = rbl.append(pd.Series([str(algorithms[9]).split(' ')[0].split('.')[-1]], \n",
        "                         index=['algorithm']))\n",
        "\n",
        "print(rbl)"
      ],
      "execution_count": 22,
      "outputs": [
        {
          "output_type": "stream",
          "text": [
            "Estimating biases using als...\n",
            "Estimating biases using als...\n",
            "Estimating biases using als...\n",
            "test_rmse        0.854996\n",
            "fit_time          1.75228\n",
            "test_time         1.93467\n",
            "algorithm    BaselineOnly\n",
            "dtype: object\n"
          ],
          "name": "stdout"
        }
      ]
    },
    {
      "cell_type": "markdown",
      "metadata": {
        "id": "JJWFVDZzPhTE",
        "colab_type": "text"
      },
      "source": [
        "CoClustering."
      ]
    },
    {
      "cell_type": "code",
      "metadata": {
        "id": "s22xF7KNPiae",
        "colab_type": "code",
        "colab": {
          "base_uri": "https://localhost:8080/",
          "height": 100
        },
        "outputId": "049d4fae-06d8-41af-cfde-196a0e6ca59a"
      },
      "source": [
        "res_cocl = cross_validate(algorithms[10], data, measures=['RMSE'], cv=3, \n",
        "                         verbose=False)\n",
        "rc = pd.DataFrame.from_dict(res_cocl).mean(axis=0)\n",
        "rc = rc.append(pd.Series([str(algorithms[10]).split(' ')[0].split('.')[-1]], \n",
        "                         index=['algorithm']))\n",
        "\n",
        "print(rc)"
      ],
      "execution_count": 23,
      "outputs": [
        {
          "output_type": "stream",
          "text": [
            "test_rmse         0.88906\n",
            "fit_time          10.1093\n",
            "test_time         1.83549\n",
            "algorithm    CoClustering\n",
            "dtype: object\n"
          ],
          "name": "stdout"
        }
      ]
    }
  ]
}